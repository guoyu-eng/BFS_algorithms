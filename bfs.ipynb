{
  "nbformat": 4,
  "nbformat_minor": 0,
  "metadata": {
    "colab": {
      "provenance": []
    },
    "kernelspec": {
      "name": "python3",
      "display_name": "Python 3"
    },
    "language_info": {
      "name": "python"
    }
  },
  "cells": [
    {
      "cell_type": "code",
      "execution_count": 31,
      "metadata": {
        "colab": {
          "base_uri": "https://localhost:8080/"
        },
        "id": "ZGZLIOuLzfpj",
        "outputId": "7359b683-d395-471f-fba6-b7f039303e49"
      },
      "outputs": [
        {
          "output_type": "stream",
          "name": "stdout",
          "text": [
            "2\n",
            "[0, 0, 0, 0, 2, 2]\n",
            "[2, 2, 2, 2, 2, 0]\n",
            "[2, 2, 0, 0, 0, 0]\n",
            "[2, 2, 0, 1, 1, 1]\n",
            "[2, 0, 0, 1, 1, 1]\n"
          ]
        }
      ],
      "source": [
        "from collections import deque\n",
        "\n",
        "# define the class\n",
        "class Grid:\n",
        "    def __init__(self, pixels):\n",
        "        self.pixels = pixels\n",
        "        self.width = len(pixels[0])\n",
        "        self.height = len(pixels)\n",
        "\n",
        "# check whether is wall\n",
        "def isWall(grid, x, y):\n",
        "    if x < 0 or x >= grid.width or y < 0 or y >= grid.height:\n",
        "        return True\n",
        "    return grid.pixels[y][x] == 0\n",
        "\n",
        "def bfs(grid, start_x, start_y, newColor, oldColor):\n",
        "    queue = deque([(start_x, start_y)])\n",
        "\n",
        "    while queue:\n",
        "        x, y = queue.popleft()\n",
        "        if not (0 <= x < grid.width and 0 <= y < grid.height and grid.pixels[y][x] == oldColor and grid.pixels[y][x] != newColor):\n",
        "            continue\n",
        "\n",
        "        grid.pixels[y][x] = newColor\n",
        "\n",
        "        for dx, dy in [(0, -1), (0, 1), (-1, 0), (1, 0)]:\n",
        "            nx, ny = x + dx, y + dy\n",
        "            if not isWall(grid, nx, ny):\n",
        "                queue.append((nx, ny))\n",
        "\n",
        "if __name__ == \"__main__\":\n",
        "    pixels = [\n",
        "        [0, 0, 0, 0, 1, 1],\n",
        "        [1, 1, 1, 1, 1, 0],\n",
        "        [1, 1, 0, 0, 0, 0],\n",
        "        [1, 1, 0, 1, 1, 1],\n",
        "        [1, 0, 0, 1, 1, 1]\n",
        "        # [0,0,0,0,1,1],\n",
        "        # [1,1,1,1,1,0],\n",
        "        # [1,1,0,0,1,0],\n",
        "        # [1,1,0,0,1,1],\n",
        "        # [1,0,1,1,1,1]\n",
        "    ]\n",
        "\n",
        "    grid = Grid(pixels)\n",
        "\n",
        "\n",
        "    # start point and the color\n",
        "    start_x, start_y = 5, 0\n",
        "    target_color = 2\n",
        "    bfs(grid, start_x, start_y, target_color, grid.pixels[start_y][start_x])\n",
        "    # print(grid.pixels[0][5])\n",
        "\n",
        "    for row in grid.pixels:\n",
        "        print(row)\n"
      ]
    },
    {
      "cell_type": "code",
      "source": [
        "from collections import deque\n",
        "\n",
        "class Grid:\n",
        "    def __init__(self, pixels):\n",
        "        self.pixels = pixels\n",
        "        self.width = len(pixels[0])\n",
        "        self.height = len(pixels)\n",
        "\n",
        "\n",
        "def bfs(grid, start_x, start_y, target_color, newColor):\n",
        "    queue = deque([(start_x, start_y)])\n",
        "    connected_pixels = 0\n",
        "\n",
        "    while queue:\n",
        "        x, y = queue.popleft()\n",
        "        if not (0 <= x < grid.width and 0 <= y < grid.height and grid.pixels[y][x] == target_color):\n",
        "            continue\n",
        "\n",
        "        grid.pixels[y][x] = newColor\n",
        "        connected_pixels += 1\n",
        "\n",
        "        for dx, dy in [(0, -1), (0, 1), (-1, 0), (1, 0)]:\n",
        "            nx, ny = x + dx, y + dy\n",
        "            if 0 <= nx < grid.width and 0 <= ny < grid.height and grid.pixels[ny][nx] == target_color:\n",
        "                queue.append((nx, ny))\n",
        "\n",
        "    return connected_pixels\n",
        "\n",
        "if __name__ == \"__main__\":\n",
        "    pixels = [\n",
        "        [0,0,0,0,1,1],\n",
        "        [1,1,1,1,1,0],\n",
        "        [1,1,0,0,1,0],\n",
        "        [1,1,0,0,1,1],\n",
        "        [1,0,1,1,1,1]\n",
        "\n",
        "    ]\n",
        "\n",
        "    grid = Grid(pixels)\n",
        "\n",
        "    max_connected_component_0 = 0\n",
        "    max_connected_component_1 = 0\n",
        "\n",
        "    for y in range(grid.height):\n",
        "        for x in range(grid.width):\n",
        "            if grid.pixels[y][x] == 0:\n",
        "                max_connected_component_0 = max(max_connected_component_0, bfs(grid, x, y, 0, 2))\n",
        "            elif grid.pixels[y][x] == 1:\n",
        "                max_connected_component_1 = max(max_connected_component_1, bfs(grid, x, y, 1, 2))\n",
        "\n",
        "    print(\"Number of pixels of the largest connected component whose starting point is 0:\", max_connected_component_0)\n",
        "    print(\"Number of pixels of the largest connected component whose starting point is 1:\", max_connected_component_1)\n"
      ],
      "metadata": {
        "colab": {
          "base_uri": "https://localhost:8080/"
        },
        "id": "FiBRSxU252xw",
        "outputId": "9eb5595e-35ef-4135-f99e-53de4f8bcbca"
      },
      "execution_count": 32,
      "outputs": [
        {
          "output_type": "stream",
          "name": "stdout",
          "text": [
            "Number of pixels of the largest connected component whose starting point is 0: 4\n",
            "Number of pixels of the largest connected component whose starting point is 1: 19\n"
          ]
        }
      ]
    },
    {
      "cell_type": "code",
      "source": [],
      "metadata": {
        "id": "uJzaU2VbUnb9"
      },
      "execution_count": null,
      "outputs": []
    }
  ]
}